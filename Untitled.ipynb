{
 "cells": [
  {
   "cell_type": "code",
   "execution_count": 2,
   "metadata": {},
   "outputs": [],
   "source": [
    "import numpy as np\n",
    "import pandas as pd\n",
    "from datetime import datetime as dt\n",
    "import itertools\n",
    "\n",
    "%matplotlib inline"
   ]
  },
  {
   "cell_type": "code",
   "execution_count": null,
   "metadata": {},
   "outputs": [],
   "source": [
    "def h2h_dict(additional_stats):\n",
    "    teams = set(additional_stats.HomeTeam)\n",
    "    head_to_head = {}\n",
    "    \n",
    "    for team in teams:\n",
    "        for opp in teams:\n",
    "            if team != opp:                             # Since a team can't play against itself\n",
    "                if team not in head_to_head:            # Adds only if the team hasn't already been added\n",
    "                    head_to_head[team] = {opp:[]}\n",
    "                else:\n",
    "                    if opp not in head_to_head[team]:   # Ensures one opposition is only added once.\n",
    "                        head_to_head[team][opp] = []\n",
    "    return head_to_head, teams"
   ]
  },
  {
   "cell_type": "code",
   "execution_count": null,
   "metadata": {},
   "outputs": [],
   "source": [
    "def h2h_stats(additional_stats):\n",
    "    h2h, teams = h2h_dict(additional_stats)\n",
    "    for team in h2h:\n",
    "        for i in range(380):\n",
    "            ht = additional_stats.iloc[i].HomeTeam\n",
    "            at = additional_stats.iloc[i].AwayTeam\n",
    "            res = additional_stats.iloc[i].FTR\n",
    "            if ht == team:\n",
    "                if res == 'H':\n",
    "                    h2h[team][at].append(['H', 'W'])\n",
    "                elif res == 'A':\n",
    "                    h2h[team][at].append(['H', 'L'])\n",
    "                else:\n",
    "                    h2h[team][at].append(['H', 'D'])\n",
    "        \n",
    "            elif at == team:\n",
    "                if res == 'H':\n",
    "                    h2h[team][ht].append(['A', 'L'])\n",
    "                elif res == 'A':\n",
    "                    h2h[team][ht].append(['A', 'W'])\n",
    "                else:\n",
    "                    h2h[team][ht].append(['A', 'D'])\n",
    "    return h2h, teams\n",
    "\n",
    "# Applies the above function to playing statistics of the last 5 years\n",
    "\n",
    "h2h5, teams5 = h2h_stats(stats_5)\n",
    "h2h6, teams6 = h2h_stats(stats_6)\n",
    "h2h7, teams7 = h2h_stats(stats_7)\n",
    "h2h8, teams8 = h2h_stats(stats_8)\n",
    "h2h9, teams9 = h2h_stats(stats_9)"
   ]
  },
  {
   "cell_type": "code",
   "execution_count": null,
   "metadata": {},
   "outputs": [],
   "source": [
    "every_year_teams = teams5 & teams6 & teams7 & teams8 & teams9\n",
    "print (every_year_teams)\n",
    "\n",
    "# Function to remove uncommon teams from head to head dict.\n",
    "def del_rare_teams(h2h, teams, every_year_teams):\n",
    "    remove_teams = set(teams) - every_year_teams\n",
    "    teams = set(teams)\n",
    "    print (remove_teams)\n",
    "    \n",
    "    # Removes entire records of teams which are not there in all years\n",
    "    for team in remove_teams:\n",
    "        h2h.pop(team)\n",
    "    \n",
    "    # Removes record of teams which aren't there in all years from records of teams which are there\n",
    "    for team in (teams-remove_teams):\n",
    "        for opp in remove_teams:\n",
    "            h2h[team].pop(opp)\n",
    "    return h2h\n",
    "\n",
    "# Removes uncommon teams from head to head of each year.\n",
    "h2h_ey5 = del_rare_teams(h2h5, teams5, every_year_teams)\n",
    "h2h_ey6 = del_rare_teams(h2h6, teams6, every_year_teams)\n",
    "h2h_ey7 = del_rare_teams(h2h7, teams7, every_year_teams)\n",
    "h2h_ey8 = del_rare_teams(h2h8, teams8, every_year_teams)\n",
    "h2h_ey9 = del_rare_teams(h2h9, teams9, every_year_teams)"
   ]
  },
  {
   "cell_type": "code",
   "execution_count": null,
   "metadata": {},
   "outputs": [],
   "source": [
    "def merge(merge_dicts):\n",
    "    new_dict = merge_dicts[0]\n",
    "    for s_dict in merge_dicts[1:]:\n",
    "        for key in merge_dicts[0].keys():\n",
    "            for team in merge_dicts[0][key].keys():\n",
    "                new_dict[key][team] = new_dict[key][team] + s_dict[key][team]\n",
    "    return new_dict\n",
    "\n",
    "h2h_total = merge([h2h_ey5, h2h_ey6, h2h_ey7, h2h_ey8, h2h_ey8 ])"
   ]
  }
 ],
 "metadata": {
  "kernelspec": {
   "display_name": "Python 3",
   "language": "python",
   "name": "python3"
  },
  "language_info": {
   "codemirror_mode": {
    "name": "ipython",
    "version": 3
   },
   "file_extension": ".py",
   "mimetype": "text/x-python",
   "name": "python",
   "nbconvert_exporter": "python",
   "pygments_lexer": "ipython3",
   "version": "3.6.9"
  }
 },
 "nbformat": 4,
 "nbformat_minor": 2
}
